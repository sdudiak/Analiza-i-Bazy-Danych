{
 "cells": [
  {
   "cell_type": "markdown",
   "metadata": {},
   "source": [
    "# Lab 1\n",
    "## Stanisław Dudiak"
   ]
  },
  {
   "cell_type": "code",
   "execution_count": null,
   "metadata": {},
   "outputs": [],
   "source": [
    "import matplotlib\n",
    "import numpy\n",
    "\n",
    "f = lambda x : x**2 + 5\n",
    "\n",
    "range1 = numpy.arange(-1, 1, 1000)\n",
    "range2 = numpy.arange(-6, 6, 1000)\n",
    "range3 = numpy.arange(0 5, 1000)\n",
    "\n"
   ]
  }
 ],
 "metadata": {
  "kernelspec": {
   "display_name": "Python 3.9.13 ('base')",
   "language": "python",
   "name": "python3"
  },
  "language_info": {
   "name": "python",
   "version": "3.9.13"
  },
  "orig_nbformat": 4,
  "vscode": {
   "interpreter": {
    "hash": "584860da340cfda17310788b877d1ff993b1e2a69287c4bfbe6dfe7195f765ed"
   }
  }
 },
 "nbformat": 4,
 "nbformat_minor": 2
}
