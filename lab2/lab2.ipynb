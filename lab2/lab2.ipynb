{
 "cells": [
  {
   "cell_type": "markdown",
   "metadata": {},
   "source": [
    "# Laboratorium 2\n",
    "## Stanisław Dudiak"
   ]
  },
  {
   "cell_type": "markdown",
   "metadata": {},
   "source": [
    "### Setup"
   ]
  },
  {
   "cell_type": "code",
   "execution_count": 92,
   "metadata": {},
   "outputs": [],
   "source": [
    "# Python imports\n",
    "import psycopg2 as pg\n",
    "import pandas as pd\n",
    "import warnings\n",
    "warnings.filterwarnings('ignore')\n",
    "\n",
    "# Connect to database\n",
    "connection = pg.connect(host = 'pgsql-196447.vipserv.org', port = 5432, user = 'wbauer_adb',\n",
    "    password = 'adb2020', dbname = 'wbauer_adb')\n"
   ]
  },
  {
   "cell_type": "markdown",
   "metadata": {},
   "source": [
    "### 1."
   ]
  },
  {
   "cell_type": "code",
   "execution_count": 93,
   "metadata": {},
   "outputs": [
    {
     "name": "stdout",
     "output_type": "stream",
     "text": [
      "Number of film categories: 16\n"
     ]
    }
   ],
   "source": [
    "# Read the lengyh of 'category' table\n",
    "df = pd.read_sql('select * from category',connection)\n",
    "print (\"Number of film categories:\", df.shape[0])"
   ]
  },
  {
   "cell_type": "markdown",
   "metadata": {},
   "source": [
    "### 2."
   ]
  },
  {
   "cell_type": "code",
   "execution_count": 94,
   "metadata": {},
   "outputs": [
    {
     "data": {
      "text/plain": [
       "'Sorted Movie Categories:'"
      ]
     },
     "metadata": {},
     "output_type": "display_data"
    },
    {
     "data": {
      "text/html": [
       "<div>\n",
       "<style scoped>\n",
       "    .dataframe tbody tr th:only-of-type {\n",
       "        vertical-align: middle;\n",
       "    }\n",
       "\n",
       "    .dataframe tbody tr th {\n",
       "        vertical-align: top;\n",
       "    }\n",
       "\n",
       "    .dataframe thead th {\n",
       "        text-align: right;\n",
       "    }\n",
       "</style>\n",
       "<table border=\"1\" class=\"dataframe\">\n",
       "  <thead>\n",
       "    <tr style=\"text-align: right;\">\n",
       "      <th></th>\n",
       "      <th>name</th>\n",
       "    </tr>\n",
       "  </thead>\n",
       "  <tbody>\n",
       "    <tr>\n",
       "      <th>0</th>\n",
       "      <td>Action</td>\n",
       "    </tr>\n",
       "    <tr>\n",
       "      <th>1</th>\n",
       "      <td>Animation</td>\n",
       "    </tr>\n",
       "    <tr>\n",
       "      <th>2</th>\n",
       "      <td>Children</td>\n",
       "    </tr>\n",
       "    <tr>\n",
       "      <th>3</th>\n",
       "      <td>Classics</td>\n",
       "    </tr>\n",
       "    <tr>\n",
       "      <th>4</th>\n",
       "      <td>Comedy</td>\n",
       "    </tr>\n",
       "    <tr>\n",
       "      <th>5</th>\n",
       "      <td>Documentary</td>\n",
       "    </tr>\n",
       "    <tr>\n",
       "      <th>6</th>\n",
       "      <td>Drama</td>\n",
       "    </tr>\n",
       "    <tr>\n",
       "      <th>7</th>\n",
       "      <td>Family</td>\n",
       "    </tr>\n",
       "    <tr>\n",
       "      <th>8</th>\n",
       "      <td>Foreign</td>\n",
       "    </tr>\n",
       "    <tr>\n",
       "      <th>9</th>\n",
       "      <td>Games</td>\n",
       "    </tr>\n",
       "    <tr>\n",
       "      <th>10</th>\n",
       "      <td>Horror</td>\n",
       "    </tr>\n",
       "    <tr>\n",
       "      <th>11</th>\n",
       "      <td>Music</td>\n",
       "    </tr>\n",
       "    <tr>\n",
       "      <th>12</th>\n",
       "      <td>New</td>\n",
       "    </tr>\n",
       "    <tr>\n",
       "      <th>13</th>\n",
       "      <td>Sci-Fi</td>\n",
       "    </tr>\n",
       "    <tr>\n",
       "      <th>14</th>\n",
       "      <td>Sports</td>\n",
       "    </tr>\n",
       "    <tr>\n",
       "      <th>15</th>\n",
       "      <td>Travel</td>\n",
       "    </tr>\n",
       "  </tbody>\n",
       "</table>\n",
       "</div>"
      ],
      "text/plain": [
       "           name\n",
       "0        Action\n",
       "1     Animation\n",
       "2      Children\n",
       "3      Classics\n",
       "4        Comedy\n",
       "5   Documentary\n",
       "6         Drama\n",
       "7        Family\n",
       "8       Foreign\n",
       "9         Games\n",
       "10       Horror\n",
       "11        Music\n",
       "12          New\n",
       "13       Sci-Fi\n",
       "14       Sports\n",
       "15       Travel"
      ]
     },
     "metadata": {},
     "output_type": "display_data"
    }
   ],
   "source": [
    "# Order movie categories by name\n",
    "df = pd.read_sql('SELECT name FROM category ORDER BY name',connection)\n",
    "display('Sorted Movie Categories:', df)\n"
   ]
  },
  {
   "cell_type": "markdown",
   "metadata": {},
   "source": [
    "### 3."
   ]
  },
  {
   "cell_type": "code",
   "execution_count": 95,
   "metadata": {},
   "outputs": [
    {
     "name": "stdout",
     "output_type": "stream",
     "text": [
      "Newest movie: Chamber Italian\n",
      "Oldest movie: Chamber Italian\n"
     ]
    }
   ],
   "source": [
    "# Order movies by release date ascending and descending, then read the first position i each dataframe\n",
    "df = pd.read_sql('SELECT title FROM film ORDER BY release_year DESC',connection)\n",
    "print('Newest movie:', df['title'].iloc[0])\n",
    "df = pd.read_sql('SELECT title FROM film ORDER BY release_year ASC',connection)\n",
    "print('Oldest movie:', df['title'].iloc[0])\n",
    "# Every movie is from the same year, so oldest and newest are the same movie"
   ]
  },
  {
   "cell_type": "markdown",
   "metadata": {},
   "source": [
    "### 4."
   ]
  },
  {
   "cell_type": "code",
   "execution_count": 96,
   "metadata": {},
   "outputs": [
    {
     "name": "stdout",
     "output_type": "stream",
     "text": [
      "Number of rentals in selected period of time:  6709\n"
     ]
    }
   ],
   "source": [
    "# Read the length of dataframe created from movies rented between selected dates\n",
    "from datetime import datetime\n",
    "df = pd.read_sql(('SELECT rental_date FROM rental WHERE rental_date BETWEEN %(min_date)s AND %(max_date)s'),connection,\n",
    "params={\"min_date\":datetime(2005,7,1,0,0), \"max_date\":datetime(2005,8,1,0,0)})\n",
    "print(\"Number of rentals in selected period of time: \", df.shape[0])\n"
   ]
  },
  {
   "cell_type": "markdown",
   "metadata": {},
   "source": [
    "### 5."
   ]
  },
  {
   "cell_type": "code",
   "execution_count": 97,
   "metadata": {},
   "outputs": [
    {
     "name": "stdout",
     "output_type": "stream",
     "text": [
      "Number of rentals in selected period of time:  0\n"
     ]
    }
   ],
   "source": [
    "# Read the length of dataframe created from movies rented between selected dates\n",
    "df = pd.read_sql(('SELECT rental_date FROM rental WHERE rental_date BETWEEN %(min_date)s AND %(max_date)s'),connection,\n",
    "params={\"min_date\":datetime(2010,1,1,0,0), \"max_date\":datetime(2011,2,1,0,0)})\n",
    "print(\"Number of rentals in selected period of time: \", df.shape[0])\n"
   ]
  },
  {
   "cell_type": "markdown",
   "metadata": {},
   "source": [
    "### 6."
   ]
  },
  {
   "cell_type": "code",
   "execution_count": 98,
   "metadata": {},
   "outputs": [
    {
     "name": "stdout",
     "output_type": "stream",
     "text": [
      "Largest payment is: 7.99\n"
     ]
    }
   ],
   "source": [
    "# List payments in ascendig order by amount \n",
    "df = pd.read_sql('SELECT amount FROM payment ORDER BY payment ASC',connection)\n",
    "print(\"Largest payment is:\", df['amount'].iloc[0])\n"
   ]
  },
  {
   "cell_type": "markdown",
   "metadata": {},
   "source": [
    "### 7."
   ]
  },
  {
   "cell_type": "code",
   "execution_count": 99,
   "metadata": {},
   "outputs": [
    {
     "name": "stdout",
     "output_type": "stream",
     "text": [
      "Customers from selected countries:\n"
     ]
    },
    {
     "data": {
      "text/html": [
       "<div>\n",
       "<style scoped>\n",
       "    .dataframe tbody tr th:only-of-type {\n",
       "        vertical-align: middle;\n",
       "    }\n",
       "\n",
       "    .dataframe tbody tr th {\n",
       "        vertical-align: top;\n",
       "    }\n",
       "\n",
       "    .dataframe thead th {\n",
       "        text-align: right;\n",
       "    }\n",
       "</style>\n",
       "<table border=\"1\" class=\"dataframe\">\n",
       "  <thead>\n",
       "    <tr style=\"text-align: right;\">\n",
       "      <th></th>\n",
       "      <th>first_name</th>\n",
       "      <th>last_name</th>\n",
       "    </tr>\n",
       "  </thead>\n",
       "  <tbody>\n",
       "    <tr>\n",
       "      <th>0</th>\n",
       "      <td>Carol</td>\n",
       "      <td>Garcia</td>\n",
       "    </tr>\n",
       "    <tr>\n",
       "      <th>1</th>\n",
       "      <td>Michelle</td>\n",
       "      <td>Clark</td>\n",
       "    </tr>\n",
       "    <tr>\n",
       "      <th>2</th>\n",
       "      <td>Marilyn</td>\n",
       "      <td>Ross</td>\n",
       "    </tr>\n",
       "    <tr>\n",
       "      <th>3</th>\n",
       "      <td>Gladys</td>\n",
       "      <td>Hamilton</td>\n",
       "    </tr>\n",
       "    <tr>\n",
       "      <th>4</th>\n",
       "      <td>Marjorie</td>\n",
       "      <td>Tucker</td>\n",
       "    </tr>\n",
       "    <tr>\n",
       "      <th>5</th>\n",
       "      <td>Bertha</td>\n",
       "      <td>Ferguson</td>\n",
       "    </tr>\n",
       "    <tr>\n",
       "      <th>6</th>\n",
       "      <td>Elsie</td>\n",
       "      <td>Kelley</td>\n",
       "    </tr>\n",
       "    <tr>\n",
       "      <th>7</th>\n",
       "      <td>Constance</td>\n",
       "      <td>Reid</td>\n",
       "    </tr>\n",
       "    <tr>\n",
       "      <th>8</th>\n",
       "      <td>Jo</td>\n",
       "      <td>Fowler</td>\n",
       "    </tr>\n",
       "    <tr>\n",
       "      <th>9</th>\n",
       "      <td>Leah</td>\n",
       "      <td>Curtis</td>\n",
       "    </tr>\n",
       "    <tr>\n",
       "      <th>10</th>\n",
       "      <td>Olga</td>\n",
       "      <td>Jimenez</td>\n",
       "    </tr>\n",
       "    <tr>\n",
       "      <th>11</th>\n",
       "      <td>Tracey</td>\n",
       "      <td>Barrett</td>\n",
       "    </tr>\n",
       "    <tr>\n",
       "      <th>12</th>\n",
       "      <td>Sonia</td>\n",
       "      <td>Gregory</td>\n",
       "    </tr>\n",
       "    <tr>\n",
       "      <th>13</th>\n",
       "      <td>Velma</td>\n",
       "      <td>Lucas</td>\n",
       "    </tr>\n",
       "    <tr>\n",
       "      <th>14</th>\n",
       "      <td>Brian</td>\n",
       "      <td>Wyman</td>\n",
       "    </tr>\n",
       "    <tr>\n",
       "      <th>15</th>\n",
       "      <td>Frank</td>\n",
       "      <td>Waggoner</td>\n",
       "    </tr>\n",
       "    <tr>\n",
       "      <th>16</th>\n",
       "      <td>Stephen</td>\n",
       "      <td>Qualls</td>\n",
       "    </tr>\n",
       "    <tr>\n",
       "      <th>17</th>\n",
       "      <td>Russell</td>\n",
       "      <td>Brinson</td>\n",
       "    </tr>\n",
       "    <tr>\n",
       "      <th>18</th>\n",
       "      <td>Rodney</td>\n",
       "      <td>Moeller</td>\n",
       "    </tr>\n",
       "    <tr>\n",
       "      <th>19</th>\n",
       "      <td>Ruben</td>\n",
       "      <td>Geary</td>\n",
       "    </tr>\n",
       "    <tr>\n",
       "      <th>20</th>\n",
       "      <td>Jimmie</td>\n",
       "      <td>Eggleston</td>\n",
       "    </tr>\n",
       "    <tr>\n",
       "      <th>21</th>\n",
       "      <td>Wallace</td>\n",
       "      <td>Slone</td>\n",
       "    </tr>\n",
       "    <tr>\n",
       "      <th>22</th>\n",
       "      <td>Johnnie</td>\n",
       "      <td>Chisholm</td>\n",
       "    </tr>\n",
       "    <tr>\n",
       "      <th>23</th>\n",
       "      <td>Sidney</td>\n",
       "      <td>Burleson</td>\n",
       "    </tr>\n",
       "  </tbody>\n",
       "</table>\n",
       "</div>"
      ],
      "text/plain": [
       "   first_name  last_name\n",
       "0       Carol     Garcia\n",
       "1    Michelle      Clark\n",
       "2     Marilyn       Ross\n",
       "3      Gladys   Hamilton\n",
       "4    Marjorie     Tucker\n",
       "5      Bertha   Ferguson\n",
       "6       Elsie     Kelley\n",
       "7   Constance       Reid\n",
       "8          Jo     Fowler\n",
       "9        Leah     Curtis\n",
       "10       Olga    Jimenez\n",
       "11     Tracey    Barrett\n",
       "12      Sonia    Gregory\n",
       "13      Velma      Lucas\n",
       "14      Brian      Wyman\n",
       "15      Frank   Waggoner\n",
       "16    Stephen     Qualls\n",
       "17    Russell    Brinson\n",
       "18     Rodney    Moeller\n",
       "19      Ruben      Geary\n",
       "20     Jimmie  Eggleston\n",
       "21    Wallace      Slone\n",
       "22    Johnnie   Chisholm\n",
       "23     Sidney   Burleson"
      ]
     },
     "metadata": {},
     "output_type": "display_data"
    }
   ],
   "source": [
    "# Get id's of selected countries\n",
    "country_ids = pd.read_sql('SELECT country_id,country FROM country WHERE country IN %(countries)s',connection,\n",
    "params={\"countries\":(\"Poland\", \"Nigeria\", \"Bangladesh\")})['country_id']\n",
    "\n",
    "# Match coutry -> city id's\n",
    "city_ids = pd.read_sql('SELECT city, city_id FROM city WHERE country_id IN %(ids)s',connection,\n",
    "params={\"ids\":tuple(country_ids.values.tolist())})['city_id']\n",
    "\n",
    "# Match city -> address id's\n",
    "address_ids = pd.read_sql('SELECT address, address_id FROM address WHERE city_id IN %(ids)s',connection,\n",
    "params={\"ids\":tuple(city_ids.values.tolist())})['address_id']\n",
    "\n",
    "# Find custmer's names by address id's\n",
    "customers = pd.read_sql('SELECT first_name, last_name FROM customer WHERE address_id IN %(ids)s',connection,\n",
    "params={\"ids\":tuple(address_ids.values.tolist())})\n",
    "\n",
    "print(\"Customers from selected countries:\")\n",
    "display(customers)"
   ]
  },
  {
   "cell_type": "markdown",
   "metadata": {},
   "source": [
    "### 8."
   ]
  },
  {
   "cell_type": "code",
   "execution_count": 100,
   "metadata": {},
   "outputs": [
    {
     "data": {
      "text/html": [
       "<div>\n",
       "<style scoped>\n",
       "    .dataframe tbody tr th:only-of-type {\n",
       "        vertical-align: middle;\n",
       "    }\n",
       "\n",
       "    .dataframe tbody tr th {\n",
       "        vertical-align: top;\n",
       "    }\n",
       "\n",
       "    .dataframe thead th {\n",
       "        text-align: right;\n",
       "    }\n",
       "</style>\n",
       "<table border=\"1\" class=\"dataframe\">\n",
       "  <thead>\n",
       "    <tr style=\"text-align: right;\">\n",
       "      <th></th>\n",
       "      <th>first_name</th>\n",
       "      <th>last_name</th>\n",
       "      <th>address_id</th>\n",
       "      <th>address</th>\n",
       "      <th>address2</th>\n",
       "      <th>district</th>\n",
       "      <th>city_id</th>\n",
       "      <th>postal_code</th>\n",
       "      <th>phone</th>\n",
       "      <th>last_update</th>\n",
       "    </tr>\n",
       "  </thead>\n",
       "  <tbody>\n",
       "    <tr>\n",
       "      <th>0</th>\n",
       "      <td>Mike</td>\n",
       "      <td>Hillyer</td>\n",
       "      <td>3</td>\n",
       "      <td>23 Workhaven Lane</td>\n",
       "      <td>None</td>\n",
       "      <td>Alberta</td>\n",
       "      <td>300</td>\n",
       "      <td></td>\n",
       "      <td>14033335568</td>\n",
       "      <td>2006-02-15 09:45:30</td>\n",
       "    </tr>\n",
       "    <tr>\n",
       "      <th>1</th>\n",
       "      <td>Jon</td>\n",
       "      <td>Stephens</td>\n",
       "      <td>4</td>\n",
       "      <td>1411 Lillydale Drive</td>\n",
       "      <td>None</td>\n",
       "      <td>QLD</td>\n",
       "      <td>576</td>\n",
       "      <td></td>\n",
       "      <td>6172235589</td>\n",
       "      <td>2006-02-15 09:45:30</td>\n",
       "    </tr>\n",
       "  </tbody>\n",
       "</table>\n",
       "</div>"
      ],
      "text/plain": [
       "  first_name last_name  address_id               address address2 district  \\\n",
       "0       Mike   Hillyer           3     23 Workhaven Lane     None  Alberta   \n",
       "1        Jon  Stephens           4  1411 Lillydale Drive     None      QLD   \n",
       "\n",
       "   city_id postal_code        phone         last_update  \n",
       "0      300              14033335568 2006-02-15 09:45:30  \n",
       "1      576               6172235589 2006-02-15 09:45:30  "
      ]
     },
     "metadata": {},
     "output_type": "display_data"
    }
   ],
   "source": [
    "# Get staff's address id's\n",
    "staff = pd.read_sql('SELECT first_name, last_name, address_id FROM staff' ,connection)\n",
    "address_ids = tuple(staff['address_id'].values.tolist())\n",
    "\n",
    "# Find addresses with id's\n",
    "staff_addressess = pd.read_sql('SELECT *  FROM address WHERE address_id IN %(ids)s' ,connection,\n",
    "params={\"ids\":address_ids}) \n",
    "\n",
    "# Merge dataframes by address id\n",
    "staff_with_adresses = staff.merge(staff_addressess)\n",
    "display(staff_with_adresses)"
   ]
  },
  {
   "cell_type": "markdown",
   "metadata": {},
   "source": [
    "### 9."
   ]
  },
  {
   "cell_type": "code",
   "execution_count": 101,
   "metadata": {},
   "outputs": [
    {
     "name": "stdout",
     "output_type": "stream",
     "text": [
      "Empty DataFrame\n",
      "Columns: [country]\n",
      "Index: []\n"
     ]
    }
   ],
   "source": [
    "# Match country id with staff address id\n",
    "country_ids = pd.read_sql('SELECT city, country_id FROM city WHERE city_id IN %(ids)s',connection,\n",
    "params={\"ids\":tuple(staff_addressess['city_id'].values.tolist())})\n",
    "\n",
    "countries = pd.read_sql('SELECT country FROM country WHERE country_id IN %(ids)s AND country IN %(countries)s',connection,\n",
    "params={\"ids\":tuple(country_ids['country_id'].values.tolist()), \"countries\":(\"Argentina\", \"Spain\")})\n",
    "print(countries)\n",
    "# No workers are from Argentine or Spain"
   ]
  },
  {
   "cell_type": "markdown",
   "metadata": {},
   "source": [
    "### 10."
   ]
  },
  {
   "cell_type": "code",
   "execution_count": 102,
   "metadata": {},
   "outputs": [
    {
     "name": "stdout",
     "output_type": "stream",
     "text": [
      "           name\n",
      "0        Action\n",
      "1     Animation\n",
      "2      Children\n",
      "3      Classics\n",
      "4        Comedy\n",
      "5   Documentary\n",
      "6         Drama\n",
      "7        Family\n",
      "8       Foreign\n",
      "9         Games\n",
      "10       Horror\n",
      "11        Music\n",
      "12          New\n",
      "13       Sci-Fi\n",
      "14       Sports\n",
      "15       Travel\n"
     ]
    }
   ],
   "source": [
    "# Match category_name -> category_id -> film_id -> inventory_id and find id's in rental\n",
    "db_string = \"SELECT name FROM category WHERE category_id IN \\\n",
    "    (SELECT category_id FROM film_category WHERE film_id IN \\\n",
    "        (SELECT film_id FROM inventory WHERE inventory_id IN \\\n",
    "            (SELECT inventory_id FROM rental)))\"\n",
    "categories = pd.read_sql(db_string, connection)\n",
    "print(categories)\n",
    "# Movies from all categories have been rented"
   ]
  },
  {
   "cell_type": "markdown",
   "metadata": {},
   "source": [
    "### 11."
   ]
  },
  {
   "cell_type": "code",
   "execution_count": 103,
   "metadata": {},
   "outputs": [
    {
     "name": "stdout",
     "output_type": "stream",
     "text": [
      "Empty DataFrame\n",
      "Columns: [name]\n",
      "Index: []\n"
     ]
    }
   ],
   "source": [
    "# Same as before, only longer\n",
    "db_string = \"SELECT name FROM category WHERE category_id IN \\\n",
    "    (SELECT category_id FROM film_category WHERE film_id IN \\\n",
    "        (SELECT film_id FROM inventory WHERE inventory_id IN \\\n",
    "            (SELECT inventory_id FROM rental WHERE customer_id IN \\\n",
    "                (SELECT customer_id FROM customer WHERE address_id IN \\\n",
    "                    (SELECT address_id FROM address WHERE city_id IN \\\n",
    "                        (SELECT city_id FROM city WHERE country_id IN \\\n",
    "                            (SELECT country_id FROM country WHERE name = 'America')))))))\"\n",
    "categories = pd.read_sql(db_string, connection)\n",
    "print(categories)\n",
    "\n",
    "# No movies from america have been rented"
   ]
  },
  {
   "cell_type": "markdown",
   "metadata": {},
   "source": [
    "### 12."
   ]
  },
  {
   "cell_type": "code",
   "execution_count": 104,
   "metadata": {},
   "outputs": [
    {
     "name": "stdout",
     "output_type": "stream",
     "text": [
      "Movies with selected actors\n",
      "                title\n",
      "0      Express Lonely\n",
      "1     Bilko Anonymous\n",
      "2    Effect Gladiator\n",
      "3   Contact Anonymous\n",
      "4         Others Soup\n",
      "..                ...\n",
      "64      Hanky October\n",
      "65    Tourist Pelican\n",
      "66   Detective Vision\n",
      "67       None Spiking\n",
      "68     Homeward Cider\n",
      "\n",
      "[69 rows x 1 columns]\n"
     ]
    }
   ],
   "source": [
    "# Same as before, only longer\n",
    "db_string = \"SELECT title FROM film WHERE film_id IN \\\n",
    "    (SELECT film_id FROM film_actor WHERE actor_id IN \\\n",
    "        (SELECT actor_id FROM actor WHERE first_name IN %(names)s AND last_name IN %(surnames)s))\"\n",
    "titles = pd.read_sql(db_string, connection,\n",
    "params={\"names\":(\"Olympia\", \"Julia\", \"Ellen\"), \"surnames\":(\"Pfeiffer\", \"Zellweger\", \"Presley\")})\n",
    "print(\"Movies with selected actors\")\n",
    "print(titles)\n"
   ]
  }
 ],
 "metadata": {
  "kernelspec": {
   "display_name": "Python 3.9.13 ('stanislawdudiak')",
   "language": "python",
   "name": "python3"
  },
  "language_info": {
   "codemirror_mode": {
    "name": "ipython",
    "version": 3
   },
   "file_extension": ".py",
   "mimetype": "text/x-python",
   "name": "python",
   "nbconvert_exporter": "python",
   "pygments_lexer": "ipython3",
   "version": "3.9.13"
  },
  "orig_nbformat": 4,
  "vscode": {
   "interpreter": {
    "hash": "584860da340cfda17310788b877d1ff993b1e2a69287c4bfbe6dfe7195f765ed"
   }
  }
 },
 "nbformat": 4,
 "nbformat_minor": 2
}
